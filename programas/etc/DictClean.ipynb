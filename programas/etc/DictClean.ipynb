{
 "cells": [
  {
   "source": [
    "### Celda para importar módulos."
   ],
   "cell_type": "markdown",
   "metadata": {}
  },
  {
   "cell_type": "code",
   "execution_count": 1,
   "metadata": {},
   "outputs": [],
   "source": [
    "import pandas as pd \n"
   ]
  },
  {
   "source": [
    "### Lista de raíces de las palabras importantes\n",
    "Esta lista luego debe ser ampliada en un archivo .dat o .txt"
   ],
   "cell_type": "markdown",
   "metadata": {}
  },
  {
   "cell_type": "code",
   "execution_count": 2,
   "metadata": {},
   "outputs": [],
   "source": [
    "dic_words = ['delant','tras','izq','der','vh','vehi','dobl','gir','volan','aseg','fren','contramano']"
   ]
  },
  {
   "source": [
    "datos = pd.read_excel('../dataset/casos_universidad.xlsx')"
   ],
   "cell_type": "code",
   "metadata": {},
   "execution_count": 3,
   "outputs": []
  },
  {
   "cell_type": "code",
   "execution_count": 4,
   "metadata": {},
   "outputs": [],
   "source": [
    "for idx,val in enumerate(datos.columns):\n",
    "    if val !=  'descripcion_del_hecho - Final':\n",
    "        datos.pop(val)\n"
   ]
  },
  {
   "cell_type": "code",
   "execution_count": 5,
   "metadata": {},
   "outputs": [],
   "source": [
    "desc = []\n",
    "for label, content in datos.items():\n",
    "    desc = content\n",
    "    "
   ]
  },
  {
   "cell_type": "code",
   "execution_count": 6,
   "metadata": {
    "tags": []
   },
   "outputs": [],
   "source": [
    "new_dict=[]\n",
    "for w in dic_words:\n",
    "    for line in desc:\n",
    "        if type(line) == list or type(line) == str:\n",
    "            for w2 in line.split():\n",
    "                if w in w2.lower():\n",
    "                    new_dict.append(w2.lower())"
   ]
  },
  {
   "cell_type": "code",
   "execution_count": 7,
   "metadata": {},
   "outputs": [],
   "source": [
    "new_dict = list(set(new_dict))"
   ]
  },
  {
   "cell_type": "code",
   "execution_count": 8,
   "metadata": {},
   "outputs": [],
   "source": [
    "new_dict = [w for w in new_dict if w.isalpha()]\n"
   ]
  },
  {
   "cell_type": "code",
   "execution_count": 10,
   "metadata": {},
   "outputs": [],
   "source": [
    "with open('../dataset/descrip_dict.dat','w') as f:\n",
    "    f.truncate()\n",
    "    for i in new_dict:\n",
    "        f.write(i+'\\n')"
   ]
  },
  {
   "cell_type": "code",
   "execution_count": null,
   "metadata": {},
   "outputs": [],
   "source": []
  }
 ],
 "metadata": {
  "kernelspec": {
   "display_name": "Python 3",
   "language": "python",
   "name": "python3"
  },
  "language_info": {
   "codemirror_mode": {
    "name": "ipython",
    "version": 3
   },
   "file_extension": ".py",
   "mimetype": "text/x-python",
   "name": "python",
   "nbconvert_exporter": "python",
   "pygments_lexer": "ipython3",
   "version": "3.6.5-final"
  }
 },
 "nbformat": 4,
 "nbformat_minor": 2
}