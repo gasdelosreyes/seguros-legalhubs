{
 "metadata": {
  "language_info": {
   "codemirror_mode": {
    "name": "ipython",
    "version": 3
   },
   "file_extension": ".py",
   "mimetype": "text/x-python",
   "name": "python",
   "nbconvert_exporter": "python",
   "pygments_lexer": "ipython3",
   "version": "3.6.5-final"
  },
  "orig_nbformat": 2,
  "kernelspec": {
   "name": "python3",
   "display_name": "Python 3"
  }
 },
 "nbformat": 4,
 "nbformat_minor": 2,
 "cells": [
  {
   "cell_type": "code",
   "execution_count": 49,
   "metadata": {},
   "outputs": [
    {
     "output_type": "stream",
     "name": "stdout",
     "text": [
      "[nltk_data] Downloading package wordnet to /home/lobon/nltk_data...\n",
      "[nltk_data]   Unzipping corpora/wordnet.zip.\n"
     ]
    }
   ],
   "source": [
    "import pandas as pd\n",
    "from nltk.probability import FreqDist\n",
    "from nltk.tokenize import word_tokenize\n",
    "from nltk.tag import pos_tag\n",
    "import nltk\n",
    "nltk.download('wordnet')\n",
    "from nltk.corpus import wordnet\n"
   ]
  },
  {
   "cell_type": "code",
   "execution_count": 39,
   "metadata": {},
   "outputs": [],
   "source": [
    "moto = pd.read_csv('../dataset/moto.csv')\n",
    "moto.drop('descripcion_del_hecho',1,inplace=True)"
   ]
  },
  {
   "cell_type": "code",
   "execution_count": 40,
   "metadata": {},
   "outputs": [],
   "source": [
    "moto['word_tokenize'] = moto['descripcion_del_hecho - Final']\n",
    "moto['word_tokenize']=moto['word_tokenize'].apply(word_tokenize)\n",
    "moto = moto.rename(columns={'descripcion_del_hecho - Final':'descripcion'})\n",
    "\n"
   ]
  },
  {
   "cell_type": "code",
   "execution_count": 42,
   "metadata": {},
   "outputs": [],
   "source": [
    "moto['pos_tag'] = moto['word_tokenize']\n",
    "moto['pos_tag'] = moto['pos_tag'].apply(pos_tag)"
   ]
  },
  {
   "cell_type": "code",
   "execution_count": 45,
   "metadata": {},
   "outputs": [],
   "source": [
    "def get_words(tag):\n",
    "    if tag.startswith('J'):\n",
    "        return wordnet.ADJ\n",
    "    elif tag.startswith('V'):\n",
    "        return wordnet.VERB\n",
    "    elif tag.startswith('N'):\n",
    "        return wordnet.NOUN\n",
    "    elif tag.startswith('R'):\n",
    "        return wordnet.ADV\n",
    "    else:\n",
    "        return wordnet.NOUN\n"
   ]
  },
  {
   "cell_type": "code",
   "execution_count": 50,
   "metadata": {},
   "outputs": [],
   "source": [
    "moto['pos_tag']= moto['pos_tag'].apply(lambda x: [(word, get_words(pos_tag)) for (word, pos_tag) in x])\n"
   ]
  },
  {
   "cell_type": "code",
   "execution_count": 51,
   "metadata": {},
   "outputs": [
    {
     "output_type": "execute_result",
     "data": {
      "text/plain": [
       "   Unnamed: 0 tipo_de_accidente responsabilidad  \\\n",
       "0           0       AUTO - MOTO    COMPROMETIDA   \n",
       "1           2       AUTO - MOTO    COMPROMETIDA   \n",
       "2           3       AUTO - MOTO    COMPROMETIDA   \n",
       "3           4       AUTO - MOTO    COMPROMETIDA   \n",
       "4           5       AUTO - MOTO    COMPROMETIDA   \n",
       "\n",
       "                                         descripcion  \\\n",
       "0  MECANICA DEL HECHO S/ VS ASEGURADO: 0 ASEGURAD...   \n",
       "1  ASEG CIRCULANDO POR MAIPU AL INGRESAR A GARAGE...   \n",
       "2  ASEGURADO ESTACIONADO SOBRE CALLE BOTICELLI AL...   \n",
       "3  CIRCULANDO POR LA AV INDEPENDENCIA , AL LLEGAR...   \n",
       "4  VH ASEGURADO ESTACIONADO EN CALLE ROJO, ASEGUR...   \n",
       "\n",
       "                                       word_tokenize  \\\n",
       "0  [MECANICA, DEL, HECHO, S/, VS, ASEGURADO, :, 0...   \n",
       "1  [ASEG, CIRCULANDO, POR, MAIPU, AL, INGRESAR, A...   \n",
       "2  [ASEGURADO, ESTACIONADO, SOBRE, CALLE, BOTICEL...   \n",
       "3  [CIRCULANDO, POR, LA, AV, INDEPENDENCIA, ,, AL...   \n",
       "4  [VH, ASEGURADO, ESTACIONADO, EN, CALLE, ROJO, ...   \n",
       "\n",
       "                                             pos_tag  \n",
       "0  [(MECANICA, n), (DEL, n), (HECHO, n), (S/, n),...  \n",
       "1  [(ASEG, n), (CIRCULANDO, n), (POR, n), (MAIPU,...  \n",
       "2  [(ASEGURADO, n), (ESTACIONADO, n), (SOBRE, n),...  \n",
       "3  [(CIRCULANDO, n), (POR, n), (LA, n), (AV, n), ...  \n",
       "4  [(VH, n), (ASEGURADO, n), (ESTACIONADO, n), (E...  "
      ],
      "text/html": "<div>\n<style scoped>\n    .dataframe tbody tr th:only-of-type {\n        vertical-align: middle;\n    }\n\n    .dataframe tbody tr th {\n        vertical-align: top;\n    }\n\n    .dataframe thead th {\n        text-align: right;\n    }\n</style>\n<table border=\"1\" class=\"dataframe\">\n  <thead>\n    <tr style=\"text-align: right;\">\n      <th></th>\n      <th>Unnamed: 0</th>\n      <th>tipo_de_accidente</th>\n      <th>responsabilidad</th>\n      <th>descripcion</th>\n      <th>word_tokenize</th>\n      <th>pos_tag</th>\n    </tr>\n  </thead>\n  <tbody>\n    <tr>\n      <th>0</th>\n      <td>0</td>\n      <td>AUTO - MOTO</td>\n      <td>COMPROMETIDA</td>\n      <td>MECANICA DEL HECHO S/ VS ASEGURADO: 0 ASEGURAD...</td>\n      <td>[MECANICA, DEL, HECHO, S/, VS, ASEGURADO, :, 0...</td>\n      <td>[(MECANICA, n), (DEL, n), (HECHO, n), (S/, n),...</td>\n    </tr>\n    <tr>\n      <th>1</th>\n      <td>2</td>\n      <td>AUTO - MOTO</td>\n      <td>COMPROMETIDA</td>\n      <td>ASEG CIRCULANDO POR MAIPU AL INGRESAR A GARAGE...</td>\n      <td>[ASEG, CIRCULANDO, POR, MAIPU, AL, INGRESAR, A...</td>\n      <td>[(ASEG, n), (CIRCULANDO, n), (POR, n), (MAIPU,...</td>\n    </tr>\n    <tr>\n      <th>2</th>\n      <td>3</td>\n      <td>AUTO - MOTO</td>\n      <td>COMPROMETIDA</td>\n      <td>ASEGURADO ESTACIONADO SOBRE CALLE BOTICELLI AL...</td>\n      <td>[ASEGURADO, ESTACIONADO, SOBRE, CALLE, BOTICEL...</td>\n      <td>[(ASEGURADO, n), (ESTACIONADO, n), (SOBRE, n),...</td>\n    </tr>\n    <tr>\n      <th>3</th>\n      <td>4</td>\n      <td>AUTO - MOTO</td>\n      <td>COMPROMETIDA</td>\n      <td>CIRCULANDO POR LA AV INDEPENDENCIA , AL LLEGAR...</td>\n      <td>[CIRCULANDO, POR, LA, AV, INDEPENDENCIA, ,, AL...</td>\n      <td>[(CIRCULANDO, n), (POR, n), (LA, n), (AV, n), ...</td>\n    </tr>\n    <tr>\n      <th>4</th>\n      <td>5</td>\n      <td>AUTO - MOTO</td>\n      <td>COMPROMETIDA</td>\n      <td>VH ASEGURADO ESTACIONADO EN CALLE ROJO, ASEGUR...</td>\n      <td>[VH, ASEGURADO, ESTACIONADO, EN, CALLE, ROJO, ...</td>\n      <td>[(VH, n), (ASEGURADO, n), (ESTACIONADO, n), (E...</td>\n    </tr>\n  </tbody>\n</table>\n</div>"
     },
     "metadata": {},
     "execution_count": 51
    }
   ],
   "source": [
    "moto.head()"
   ]
  },
  {
   "cell_type": "code",
   "execution_count": null,
   "metadata": {},
   "outputs": [],
   "source": []
  }
 ]
}