{
 "metadata": {
  "language_info": {
   "codemirror_mode": {
    "name": "ipython",
    "version": 3
   },
   "file_extension": ".py",
   "mimetype": "text/x-python",
   "name": "python",
   "nbconvert_exporter": "python",
   "pygments_lexer": "ipython3",
   "version": "3.6.5-final"
  },
  "orig_nbformat": 2,
  "kernelspec": {
   "name": "Python 3.6.5 64-bit ('base': conda)",
   "display_name": "Python 3.6.5 64-bit ('base': conda)",
   "metadata": {
    "interpreter": {
     "hash": "b986d98e0df1664a7390fe5ecd67a5f56e3adc7a60038781c0c2b0ed72484ff5"
    }
   }
  }
 },
 "nbformat": 4,
 "nbformat_minor": 2,
 "cells": [
  {
   "source": [
    "datos = open('../dataset/casos_universidad.csv','r')\n",
    "dat = datos.readlines()\n",
    "datos.close()"
   ],
   "cell_type": "code",
   "metadata": {},
   "execution_count": 1,
   "outputs": []
  },
  {
   "source": [
    "La descripción completa la obtenemos tomando desde 'Descr hasta 'Observaciones' siempre y cuando dentro de la descripción no este escrita la palabra Observaciones."
   ],
   "cell_type": "markdown",
   "metadata": {}
  },
  {
   "cell_type": "code",
   "execution_count": 2,
   "metadata": {},
   "outputs": [],
   "source": [
    "vector = [  [r'\\'e1',r'á'],\n",
    "            [r'\\'e9',r'é'],\n",
    "            [r'\\'ed',r'í'],\n",
    "            [r'\\'cd',r'í'],\n",
    "            [r'\\'fa',r'ú'],\n",
    "            [r'\\'f3', r'ó'],\n",
    "            [r'\\'e0', r'à'],\n",
    "            [r'\\'e8', r'è'],\n",
    "            [r'\\'ec', r'ì'],\n",
    "            [r'\\'f2', r'ò'],\n",
    "            [r'\\'f9', r'ù'],\n",
    "            [r'\\'c1',r'Á'],\n",
    "            [r'\\'d3',r'Ó'],\n",
    "            [r'\\tab ',''],\n",
    "            [r'\\n',''],\n",
    "            [r'\\'d1',r'ñ'],\n",
    "            [r'\\par_x000D_',''],\n",
    "            [r'_x000D_',''],\n",
    "            ]\n"
   ]
  },
  {
   "cell_type": "code",
   "execution_count": 3,
   "metadata": {
    "tags": []
   },
   "outputs": [],
   "source": [
    "\"\"\"\n",
    "description = []\n",
    "for i in dat:\n",
    "    if 'Descr' in i:\n",
    "        description.append(i)\n",
    "\n",
    "\"\"\"\n",
    "description = []\n",
    "for i,desc in enumerate(dat):\n",
    "    if 'Descr' in desc:\n",
    "        for j,obs in enumerate(dat[i:]):\n",
    "            if 'Obser' in obs:\n",
    "                description.append(dat[i:i+j])\n",
    "                break"
   ]
  },
  {
   "cell_type": "code",
   "execution_count": 4,
   "metadata": {
    "tags": []
   },
   "outputs": [],
   "source": [
    "desc_final=[]\n",
    "for i in description:\n",
    "    if type(i)==list and i!='':\n",
    "        aux=''\n",
    "        for j in i:\n",
    "            aux+=j+' ' #me esta metiendo un string vacío y no se por que\n",
    "        desc_final.append(aux)\n",
    "description = desc_final\n",
    "        "
   ]
  },
  {
   "source": [
    "for indice,valor in enumerate(desc):"
   ],
   "cell_type": "markdown",
   "metadata": {
    "tags": []
   }
  },
  {
   "cell_type": "code",
   "execution_count": 5,
   "metadata": {},
   "outputs": [],
   "source": [
    "for i,desc in enumerate(description):\n",
    "    for row in vector:\n",
    "        if row[0] in desc:\n",
    "            desc = desc.replace(row[0],row[1])\n",
    "    description[i] = desc\n",
    "\n",
    "#Delete repeated lines\n",
    "description=list(set(description))\n",
    "#Delete basic format\n",
    "for i,desc in enumerate(description):\n",
    "    description[i] = desc[desc.find(':')+2:].lower()"
   ]
  },
  {
   "cell_type": "code",
   "execution_count": 6,
   "metadata": {},
   "outputs": [],
   "source": [
    "with open('../dataset/descripciones.txt','w') as f:\n",
    "    f.truncate()\n",
    "    for i in description:\n",
    "        f.write(i)"
   ]
  },
  {
   "source": [
    "## Autocompletador de palabras\n",
    "Realizar un trie con todas las palabras de las descripciones y luego considerar casos especiales como VH y otros. \n",
    "Para autocompletar luego debemos tomar la palabra más frecuente. Inicialmente se puede hacer así, sino debemos entrenar un algoritmo que lo haga por nosotros.\n",
    "Como parámetros de entrenamiento debemos utilizar texto policial, de la ley de transito, de aseguradoras."
   ],
   "cell_type": "markdown",
   "metadata": {}
  },
  {
   "cell_type": "code",
   "execution_count": null,
   "metadata": {},
   "outputs": [],
   "source": []
  }
 ]
}