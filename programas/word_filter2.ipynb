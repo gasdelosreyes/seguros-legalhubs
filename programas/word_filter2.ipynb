{
 "cells": [
  {
   "cell_type": "code",
   "execution_count": 1,
   "metadata": {},
   "outputs": [],
   "source": [
    "from os import sep\n",
    "from nltk import data\n",
    "from nltk.probability import FreqDist\n",
    "from nltk.text import Text\n",
    "import nltk\n",
    "import pandas as pd\n",
    "import matplotlib.pyplot as plt\n",
    "import re\n",
    "from nltk.tokenize import word_tokenize\n",
    "from nltk.corpus import stopwords\n",
    "from nltk.corpus import swadesh\n",
    "from nltk.tag import pos_tag\n",
    "from fuzzywuzzy import fuzz"
   ]
  },
  {
   "cell_type": "code",
   "execution_count": 73,
   "metadata": {},
   "outputs": [],
   "source": [
    "dataset = pd.read_csv('../dataset/casos_filtrados_frequences.csv',sep=';')"
   ]
  },
  {
   "cell_type": "code",
   "execution_count": 71,
   "metadata": {},
   "outputs": [],
   "source": [
    "def max_ratio(w):\n",
    "    try:        \n",
    "        dic = ['parte','circulaba','delantera','delantero','delante','enfrente','izquierda','derecha','lateral','colisiona',\n",
    "           'colision','colisiono','colisionada','colisionado','colisionando','trasero','trasera','impacta','impacto',\n",
    "           'impactado','impactada','embiste','embistio','embestido','iba','venia','frente','lado','detras',\n",
    "           'atras','costado','choca','choco','chocando','choque','costado','frontal','parte']\n",
    "\n",
    "        aux = 0\n",
    "        word=''\n",
    "        for i in dic:\n",
    "            if aux<=fuzz.ratio(w,i) and 80<fuzz.ratio(w,i) or 90<fuzz.partial_ratio(w,i):\n",
    "                aux=max(fuzz.ratio(w,i),fuzz.partial_ratio(w,i))\n",
    "                word=i\n",
    "        #print(w,word)\n",
    "        if word!='':\n",
    "            return word\n",
    "        return w\n",
    "        #return w hay que poner para usar, mientras me sirve para evaluar\n",
    "    except:\n",
    "        return w"
   ]
  },
  {
   "cell_type": "code",
   "execution_count": 72,
   "metadata": {},
   "outputs": [],
   "source": [
    "col = 'descripcion_del_hecho - Final'"
   ]
  },
  {
   "cell_type": "code",
   "execution_count": 76,
   "metadata": {},
   "outputs": [],
   "source": [
    "for row1 in dataset[col]:\n",
    "    try:\n",
    "        row=row1.split()\n",
    "        row2=[]\n",
    "        for w in row:\n",
    "            row2.append(max_ratio(w))\n",
    "        row = ' '.join(row2)\n",
    "        dataset.replace(row1,row)\n",
    "    except:\n",
    "        continue"
   ]
  },
  {
   "cell_type": "markdown",
   "metadata": {},
   "source": [
    "dataset.to_csv('test.csv')"
   ]
  },
  {
   "cell_type": "code",
   "execution_count": 77,
   "metadata": {},
   "outputs": [],
   "source": [
    "fstring = ''\n",
    "for row in dataset[col]:\n",
    "    fstring += str(row)\n"
   ]
  },
  {
   "cell_type": "code",
   "execution_count": 78,
   "metadata": {},
   "outputs": [],
   "source": [
    "dic = ['parte','circulaba','delantera','delantero','delante','enfrente','izquierda','derecha','lateral','colisiona',\n",
    "       'colision','colisiono','colisionada','colisionado','colisionando','trasero','trasera','impacta','impacto',\n",
    "       'impactado','impactada','embiste','embistio','embestido','iba','venia','frente','lado','detras',\n",
    "       'atras','costado','choca','choco','chocando','choque','costado','frontal','parte']\n",
    "dic.sort()"
   ]
  },
  {
   "cell_type": "code",
   "execution_count": 91,
   "metadata": {},
   "outputs": [],
   "source": [
    "tokens = word_tokenize(fstring)\n",
    "new_tok=[]\n",
    "for w in tokens:\n",
    "    new_tok.append(max_ratio(w))\n",
    "tokens = new_tok\n",
    "nltkText = Text(tokens)\n",
    "f = FreqDist(nltkText)\n",
    "#f=nltknltkText.vocab() es igual"
   ]
  },
  {
   "cell_type": "code",
   "execution_count": 106,
   "metadata": {},
   "outputs": [
    {
     "name": "stdout",
     "output_type": "stream",
     "text": [
      "derecha tercero moto delante parte asegurado aseg frontal lateral\n",
      "vehiculo trasera desplazamientos colisionando frente persona ultima\n",
      "interseccion peaton ocupantes veo\n"
     ]
    }
   ],
   "source": [
    "nltkText.similar('izquierda')"
   ]
  },
  {
   "cell_type": "code",
   "execution_count": null,
   "metadata": {},
   "outputs": [],
   "source": []
  }
 ],
 "metadata": {
  "kernelspec": {
   "display_name": "Python 3",
   "language": "python",
   "name": "python3"
  },
  "language_info": {
   "codemirror_mode": {
    "name": "ipython",
    "version": 3
   },
   "file_extension": ".py",
   "mimetype": "text/x-python",
   "name": "python",
   "nbconvert_exporter": "python",
   "pygments_lexer": "ipython3",
   "version": "3.6.12"
  }
 },
 "nbformat": 4,
 "nbformat_minor": 4
}
